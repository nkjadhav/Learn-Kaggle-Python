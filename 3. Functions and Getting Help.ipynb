{
  "cells": [
    {
      "metadata": {
        "_uuid": "0a910b17067e1247693d2799bb8988d4d232bb50"
      },
      "cell_type": "markdown",
      "source": "# Functions and Getting Help\nIn this lesson, we'll be talking about functions: calling them, defining them, and looking them up using Python's built-in documentation.\n\nIn some languages, functions must be defined to always take a specific number of arguments, each having a particular type. Python functions are allowed much more flexibility. The `print` function is a good example of this:"
    },
    {
      "metadata": {
        "collapsed": true,
        "_uuid": "63896c3f43669fe3f8e93da7142b72b0d935f0f7",
        "trusted": false
      },
      "cell_type": "code",
      "source": "print(\"The print function takes an input and prints it to the screen.\")\nprint(\"Each call to print starts on a new line.\")\nprint(\"You'll often call print with strings, but you can pass any kind of value. For example, a number:\")\nprint(2 + 2)\nprint(\"If print is called with multiple arguments...\", \"it joins them\",\n      \"(with spaces in between)\", \"before printing.\")\nprint('But', 'this', 'is', 'configurable', sep='!...')\nprint()\nprint(\"^^^ print can also be called with no arguments to print a blank line.\")",
      "execution_count": null,
      "outputs": []
    },
    {
      "metadata": {
        "_uuid": "d9b91c338aa519c81e3e6cb786c90166ba67c5a8"
      },
      "cell_type": "markdown",
      "source": "## \"What does this function do again?\"\n\nI showed the `abs` function in the previous tutorial, but what if you've forgotten what it does?\n\nThe `help()` function is possibly the most important Python function you can learn. If you can remember how to use `help()`, you hold the key to understanding just about any other function in Python."
    },
    {
      "metadata": {
        "collapsed": true,
        "_uuid": "9c29ea50b232f699e587af49963f189b4d2d10e1",
        "trusted": false
      },
      "cell_type": "code",
      "source": "help(abs)",
      "execution_count": null,
      "outputs": []
    },
    {
      "metadata": {
        "_uuid": "600ed9b66eb804ddddbc92c54486c9819cebd01b"
      },
      "cell_type": "markdown",
      "source": "When applied to a function, `help()` displays...\n\n- the header of that function `abs(x, /)`. In this case, this tells us that `abs()` takes a single argument `x`. (The forward slash isn't important, but if you're curious, you can read about it [here](https://stackoverflow.com/questions/24735311/python-what-does-the-slash-mean-in-the-output-of-helprange))\n- A brief English description of what the function does."
    },
    {
      "metadata": {
        "_uuid": "37213fbf0f1b5b71d3e819875e2677c7cc6d601e"
      },
      "cell_type": "markdown",
      "source": "**Common pitfall:** when you're looking up a function, remember to pass in the name of the function itself, and not the result of calling that function. \n\nWhat happens if we invoke help on a *call* to the function `abs()`? Unhide the output of the cell below to see."
    },
    {
      "metadata": {
        "_kg_hide-output": true,
        "collapsed": true,
        "_uuid": "02ea61f144e5b6ec89ca82d443e3c9dd195f662b",
        "trusted": false
      },
      "cell_type": "code",
      "source": "help(abs(-2))",
      "execution_count": null,
      "outputs": []
    },
    {
      "metadata": {
        "_uuid": "4065d1c674a6d78b96bc7525b023c80770d93374"
      },
      "cell_type": "markdown",
      "source": "Python evaluates an expression like this from the inside out. First it calculates the value of `abs(-2)`, then it provides help on whatever the value of that expression is.\n\n<small>(And it turns out to have a lot to say about integers! In Python, even something as simple-seeming as an integer is actually an object with a fair amount of internal complexity. After we talk later about objects, methods, and attributes in Python, the voluminous help output above will make more sense.)</small>\n\n`abs` is a very simple function with a short docstring. `help` shines even more when dealing with more complex, configurable functions like `print`:"
    },
    {
      "metadata": {
        "collapsed": true,
        "_uuid": "47b2ee1cb391669e54c5d83993f1331ef286b380",
        "trusted": false
      },
      "cell_type": "code",
      "source": "help(print)",
      "execution_count": null,
      "outputs": []
    },
    {
      "metadata": {
        "_uuid": "5cecd7c474db8e0878c3387ddca5b506239a1991"
      },
      "cell_type": "markdown",
      "source": "Some of this might look inscrutable for now (what's `sys.stdout`?), but this docstring does shed some light on that `sep` parameter we used in one of our `print` examples at the beginning. "
    },
    {
      "metadata": {
        "_uuid": "7ae4f37a7433756671750b8bce86e4f1403d94ce"
      },
      "cell_type": "markdown",
      "source": "## Defining functions\n\nBuiltin functions are great, but we can only get so far with them before we need to start defining our own functions. Below is a simple example."
    },
    {
      "metadata": {
        "collapsed": true,
        "_uuid": "e765fac347a529c02d90536571ec484808c18ed2",
        "trusted": false
      },
      "cell_type": "code",
      "source": "def least_difference(a, b, c):\n    diff1 = abs(a - b)\n    diff2 = abs(b - c)\n    diff3 = abs(a - c)\n    return min(diff1, diff2, diff3)",
      "execution_count": null,
      "outputs": []
    },
    {
      "metadata": {
        "_uuid": "c8a5196a1904baf132a58d39045bdcfeba725dfa"
      },
      "cell_type": "markdown",
      "source": "This creates a function called `least_difference`, which takes three arguments, `a`, `b`, and `c`.\n\nFunctions start with a header introduced by the `def` keyword. The indented block of code following the `:` is run when the function is called.\n\n`return` is another keyword uniquely associated with functions. When Python encounters a `return` statement, it exits the function immediately, and passes the value on the right hand side to the calling context.\n\nIs it clear what `least_difference()` does from the source code? If we're not sure, we can always try it out on a few examples:"
    },
    {
      "metadata": {
        "collapsed": true,
        "_uuid": "5776571c17ca9021004f7203cb1b3faffb565569",
        "trusted": false
      },
      "cell_type": "code",
      "source": "print(\n    least_difference(1, 10, 100),\n    least_difference(1, 10, 10),\n    least_difference(5, 6, 7), # Python allows trailing commas in argument lists. How nice is that?\n)",
      "execution_count": null,
      "outputs": []
    },
    {
      "metadata": {
        "_uuid": "8f982ef48345e3d729429873aec2ad834711fee6"
      },
      "cell_type": "markdown",
      "source": "Or maybe the `help()` function can tell us something about it."
    },
    {
      "metadata": {
        "collapsed": true,
        "_uuid": "c20b38a40e1f567f5b2a12a212e385c90b00d63b",
        "trusted": false
      },
      "cell_type": "code",
      "source": "help(least_difference)",
      "execution_count": null,
      "outputs": []
    },
    {
      "metadata": {
        "_uuid": "bf163878091ee2369ea0fe8b3dfc7410cb784262"
      },
      "cell_type": "markdown",
      "source": "Unsurprisingly, Python isn't smart enough to read my code and turn it into a nice English description. However, when I write a function, I can provide a description in what's called the **docstring**.\n\n### Docstrings"
    },
    {
      "metadata": {
        "collapsed": true,
        "_uuid": "836744bb470b78175a0afb3719771e4e945fa05b",
        "trusted": false
      },
      "cell_type": "code",
      "source": "def least_difference(a, b, c):\n    \"\"\"Return the smallest difference between any two numbers\n    among a, b and c.\n    \n    >>> least_difference(1, 5, -5)\n    4\n    \"\"\"\n    diff1 = abs(a - b)\n    diff2 = abs(b - c)\n    diff3 = abs(a - c)\n    return min(diff1, diff2, diff3)",
      "execution_count": null,
      "outputs": []
    },
    {
      "metadata": {
        "_uuid": "08f6bb030633b55363b9c02dd4d8b39dacc6e595"
      },
      "cell_type": "markdown",
      "source": "The docstring is a triple-quoted string (which may span multiple lines) that comes immediately after the header of a function. When we call `help()` on a function, it shows the docstring."
    },
    {
      "metadata": {
        "collapsed": true,
        "_uuid": "3e51d7482c9e53f9652cdf2d13b35c6a3603b89d",
        "trusted": false
      },
      "cell_type": "code",
      "source": "help(least_difference)",
      "execution_count": null,
      "outputs": []
    },
    {
      "metadata": {
        "_uuid": "2d5cbf56af755f00366af90502b18ce616ff3872"
      },
      "cell_type": "markdown",
      "source": "> **Aside: example calls**\n> The last two lines of the docstring are an example function call and result. (The `>>>` is a reference to the command prompt used in Python interactive shells.) Python doesn't run the example call - it's just there for the benefit of the reader. The convention of including 1 or more example calls in a function's docstring is far from universally observed, but it can be very effective at helping someone understand your function. For a real-world example of, see [this docstring for the numpy function `np.eye`](https://github.com/numpy/numpy/blob/v1.14.2/numpy/lib/twodim_base.py#L140-L194)."
    },
    {
      "metadata": {
        "_uuid": "4d93e86035dd3c7d68407234319a289e7db5033f"
      },
      "cell_type": "markdown",
      "source": "\n\nDocstrings are a nice way to document your code for others - or even for yourself. (How many times have you come back to some code you were working on a day ago and wondered \"what was I thinking?\")"
    },
    {
      "metadata": {
        "_uuid": "163066a3face115ba5038fb3e1e028b09538e6e3"
      },
      "cell_type": "markdown",
      "source": "## Functions that don't return\n\nWhat would happen if we didn't include the `return` keyword in our function?"
    },
    {
      "metadata": {
        "collapsed": true,
        "_uuid": "5bbe97d0fd94d6937bcaae6b36f8ea5fb871d060",
        "trusted": false
      },
      "cell_type": "code",
      "source": "def least_difference(a, b, c):\n    \"\"\"Return the smallest difference between any two numbers\n    among a, b and c.\n    \"\"\"\n    diff1 = abs(a - b)\n    diff2 = abs(b - c)\n    diff3 = abs(a - c)\n    min(diff1, diff2, diff3)\n    \nprint(\n    least_difference(1, 10, 100),\n    least_difference(1, 10, 10),\n    least_difference(5, 6, 7),\n)",
      "execution_count": null,
      "outputs": []
    },
    {
      "metadata": {
        "_uuid": "d66387f47dc84c7272b86d3b43a5eb1d941c64b2"
      },
      "cell_type": "markdown",
      "source": "Python allows us to define such functions. The result of calling them is the special value `None`. (This is similar to the concept of \"null\" in other languages.)\n\nWithout a `return` statement, `least_difference` is completely pointless, but a function with side effects may do something useful without returning anything. We've already seen two examples of this: `print()` and `help()` don't return anything. We only call them for their side effects (putting some text on the screen). Other examples of useful side effects include writing to a file, or modifying an input."
    },
    {
      "metadata": {
        "collapsed": true,
        "_uuid": "6215cdf9046194525ae7ff8d8cd2f493679e0661",
        "trusted": false
      },
      "cell_type": "code",
      "source": "mystery = print()\nprint(mystery)",
      "execution_count": null,
      "outputs": []
    },
    {
      "metadata": {
        "_uuid": "4dc69267f20d13fe69c648a0f0e798c5758ff2b5"
      },
      "cell_type": "markdown",
      "source": "## Default arguments\n\nWhen we called `help(print)`, we saw that the `print` function has several optional arguments. For example, we can specify a value for `sep` to put some special string in between our printed arguments:"
    },
    {
      "metadata": {
        "collapsed": true,
        "_uuid": "8d67d4010f07f59655777f9e9f53560c29b6ea19",
        "trusted": false
      },
      "cell_type": "code",
      "source": "print(1, 2, 3, sep=' < ')",
      "execution_count": null,
      "outputs": []
    },
    {
      "metadata": {
        "_uuid": "9933609e43dfc498c94a595a2f09e4321f01b88d"
      },
      "cell_type": "markdown",
      "source": "But if we don't specify a value, `sep` is treated as having a default value of `' '` (a single space)."
    },
    {
      "metadata": {
        "collapsed": true,
        "_uuid": "cadfae9415f973f8d6538be311a6c8ab5ab581be",
        "trusted": false
      },
      "cell_type": "code",
      "source": "print(1, 2, 3)",
      "execution_count": null,
      "outputs": []
    },
    {
      "metadata": {
        "_uuid": "f55c1ed6d31d08ab21ec2d75dca934da6f0849ad"
      },
      "cell_type": "markdown",
      "source": "Adding optional arguments with default values to the functions we define turns out to be pretty easy:"
    },
    {
      "metadata": {
        "collapsed": true,
        "_uuid": "970e519c6e99436bbafe1bca4efed9eb7724beaa",
        "trusted": false
      },
      "cell_type": "code",
      "source": "def greet(who=\"Colin\"):\n    print(\"Hello,\", who)\n    \ngreet()\ngreet(who=\"Kaggle\")\n# (In this case, we don't need to specify the name of the argument, because it's unambiguous.)\ngreet(\"world\")",
      "execution_count": null,
      "outputs": []
    },
    {
      "metadata": {
        "_uuid": "d8383fc8f47a5b2568e4335a4776ec76b6a00bd4"
      },
      "cell_type": "markdown",
      "source": "<!-- Mention that non-default args must come before default? -->\n\n## Functions are objects too"
    },
    {
      "metadata": {
        "collapsed": true,
        "_uuid": "1604cd49eb4df9c20d5b7e66534aa0176021e9e3",
        "trusted": false
      },
      "cell_type": "code",
      "source": "def f(n):\n    return n * 2\n\nx = 12.5",
      "execution_count": null,
      "outputs": []
    },
    {
      "metadata": {
        "_uuid": "09092780085e188a1493b374939d097ee5d23a0f"
      },
      "cell_type": "markdown",
      "source": "The syntax for creating them may be different, but `f` and `x` in the code above aren't so fundamentally different. They're each variables that refer to objects. `x` refers to an object of type `float`, and `f` refers to an object of type... well, let's ask Python:"
    },
    {
      "metadata": {
        "collapsed": true,
        "_uuid": "4b1642d8fe0ee1ee1b5db8671c087b4b22c62154",
        "trusted": false
      },
      "cell_type": "code",
      "source": "print(\n    type(x),\n    type(f), sep='\\n'\n)",
      "execution_count": null,
      "outputs": []
    },
    {
      "metadata": {
        "_uuid": "667ce4ea1ab1ed948d57ab41cf6b967510f5590f"
      },
      "cell_type": "markdown",
      "source": "We can even ask Python to print `f` out:"
    },
    {
      "metadata": {
        "collapsed": true,
        "_uuid": "3f20e5b7741bd07c03eacadd4fa8ec0e3507c61a",
        "trusted": false
      },
      "cell_type": "code",
      "source": "print(x)\nprint(f)",
      "execution_count": null,
      "outputs": []
    },
    {
      "metadata": {
        "_uuid": "5cb6553199c330b97f130d7db7b5671ac4933d84"
      },
      "cell_type": "markdown",
      "source": "...though what it shows isn't super useful.\n\nNotice that the code cells above have examples of functions (`type`, and `print`) taking *another function* as input. This opens up some interesting possibilities - we can *call* the function we receive as an argument."
    },
    {
      "metadata": {
        "collapsed": true,
        "_uuid": "b65b8a169ba5a239f4ba6714714180fd266a3150",
        "trusted": false
      },
      "cell_type": "code",
      "source": "def call(fn, arg):\n    \"\"\"Call fn on arg\"\"\"\n    return fn(arg)\n\ndef squared_call(fn, arg):\n    \"\"\"Call fn on the result of calling fn on arg\"\"\"\n    return fn(fn(arg))\n\nprint(\n    call(f, 1),\n    squared_call(f, 1), \n    sep='\\n', # '\\n' is the newline character - it starts a new line\n)",
      "execution_count": null,
      "outputs": []
    },
    {
      "metadata": {
        "_uuid": "a39868f4f9cf2ab53b9d998b71b9d2a1cdfbae7e"
      },
      "cell_type": "markdown",
      "source": "You probably won't often define [higher order functions](https://en.wikipedia.org/wiki/Higher-order_function) like this yourself, but there are some existing ones (built in to Python and in libraries like pandas or numpy) that you might find useful to call. For example, `max`.\n\nBy default, `max` returns the largest of its arguments. But if we pass in a function using the optional `key` argument, it returns the argument `x` that maximizes `key(x)` (aka the 'argmax')."
    },
    {
      "metadata": {
        "collapsed": true,
        "_uuid": "9296d00d89c35f0b3eb3bad26c0fb2cc80572654",
        "trusted": false
      },
      "cell_type": "code",
      "source": "def mod_5(x):\n    \"\"\"Return the remainder of x after dividing by 5\"\"\"\n    return x % 5\n\nprint(\n    'Which number is biggest?',\n    max(100, 51, 14),\n    'Which number is the biggest modulo 5?',\n    max(100, 51, 14, key=mod_5),\n    sep='\\n',\n)",
      "execution_count": null,
      "outputs": []
    },
    {
      "metadata": {
        "_uuid": "a3fa9eca66f006e280964ead5b8edb2ccb4d2e40"
      },
      "cell_type": "markdown",
      "source": "### Lambda functions\n\nIf you're writing a short throwaway function whose body fits into a single line (like `mod_5` above), Python's `lambda` syntax is conveniently compact."
    },
    {
      "metadata": {
        "collapsed": true,
        "_uuid": "7a2fb8bf68fd76e8af5f7ab0f79da5203dbfa68d",
        "trusted": false
      },
      "cell_type": "code",
      "source": "mod_5 = lambda x: x % 5\n\n# Note that we don't use the \"return\" keyword above (it's implicit)\n# (The line below would produce a SyntaxError)\n#mod_5 = lambda x: return x % 5\n\nprint('101 mod 5 =', mod_5(101))",
      "execution_count": null,
      "outputs": []
    },
    {
      "metadata": {
        "collapsed": true,
        "_uuid": "d8a224f78d3fd9831d03d3a362d91bd18973889c",
        "trusted": false
      },
      "cell_type": "code",
      "source": "# Lambdas can take multiple comma-separated arguments\nabs_diff = lambda a, b: abs(a-b)\nprint(\"Absolute difference of 5 and 7 is\", abs_diff(5, 7))",
      "execution_count": null,
      "outputs": []
    },
    {
      "metadata": {
        "collapsed": true,
        "_uuid": "92dd41e9efa65182a27158abd4e952e52a48aac6",
        "trusted": false
      },
      "cell_type": "code",
      "source": "# Or no arguments\nalways_32 = lambda: 32\nalways_32()",
      "execution_count": null,
      "outputs": []
    },
    {
      "metadata": {
        "_uuid": "13209f1e18d3afa6984e55b691bd2324650aa73a"
      },
      "cell_type": "markdown",
      "source": "With judicious use of lambdas, you can occasionally solve complex problems in a single line. "
    },
    {
      "metadata": {
        "collapsed": true,
        "_uuid": "eed669351c93eecf9001eec174399530e01188e7",
        "trusted": false
      },
      "cell_type": "code",
      "source": "# Preview of lists and strings. (We'll go in depth into both soon)\n# - len: return the length of a sequence (such as a string or list)\n# - sorted: return a sorted version of the given sequence (optional key \n#           function works similarly to max and min)\n# - s.lower() : return a lowercase version of string s\nnames = ['jacques', 'Ty', 'Mia', 'pui-wa']\nprint(\"Longest name is:\", max(names, key=lambda name: len(name))) # or just key=len\nprint(\"Names sorted case insensitive:\", sorted(names, key=lambda name: name.lower()))",
      "execution_count": null,
      "outputs": []
    },
    {
      "metadata": {
        "_uuid": "d4b3d37b0289256a2b1cd9e2b6c4230b68e5fb27"
      },
      "cell_type": "markdown",
      "source": "# Your turn!\n\nHead over to [the Exercises notebook](https://www.kaggle.com/kernels/fork/1275158) to get some hands-on practice working with functions and getting help."
    }
  ],
  "metadata": {
    "kernelspec": {
      "display_name": "Python 3",
      "language": "python",
      "name": "python3"
    },
    "language_info": {
      "name": "python",
      "version": "3.6.6",
      "mimetype": "text/x-python",
      "codemirror_mode": {
        "name": "ipython",
        "version": 3
      },
      "pygments_lexer": "ipython3",
      "nbconvert_exporter": "python",
      "file_extension": ".py"
    },
    "learntools_metadata": {
      "lesson_index": 1,
      "type": "tutorial"
    }
  },
  "nbformat": 4,
  "nbformat_minor": 1
}